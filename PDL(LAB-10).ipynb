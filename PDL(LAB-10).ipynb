{
 "cells": [
  {
   "cell_type": "code",
   "execution_count": null,
   "id": "1e5eeae4",
   "metadata": {},
   "outputs": [
    {
     "name": "stdout",
     "output_type": "stream",
     "text": [
      " * Serving Flask app \"__main__\" (lazy loading)\n",
      " * Environment: production\n",
      "\u001b[31m   WARNING: This is a development server. Do not use it in a production deployment.\u001b[0m\n",
      "\u001b[2m   Use a production WSGI server instead.\u001b[0m\n",
      " * Debug mode: off\n"
     ]
    },
    {
     "name": "stderr",
     "output_type": "stream",
     "text": [
      " * Running on http://127.0.0.1:5000/ (Press CTRL+C to quit)\n",
      "127.0.0.1 - - [26/Aug/2022 21:12:17] \"GET / HTTP/1.1\" 200 -\n",
      "127.0.0.1 - - [26/Aug/2022 21:12:17] \"GET /bootstrap.min.css HTTP/1.1\" 404 -\n",
      "127.0.0.1 - - [26/Aug/2022 21:12:17] \"GET /font-awesome.min.css HTTP/1.1\" 404 -\n",
      "127.0.0.1 - - [26/Aug/2022 21:12:17] \"GET /favicon.ico HTTP/1.1\" 404 -\n",
      "[nltk_data] Downloading package vader_lexicon to\n",
      "[nltk_data]     C:\\Users\\Asus-2022\\AppData\\Roaming\\nltk_data...\n",
      "127.0.0.1 - - [26/Aug/2022 21:12:29] \"POST / HTTP/1.1\" 200 -\n",
      "127.0.0.1 - - [26/Aug/2022 21:12:29] \"GET /bootstrap.min.css HTTP/1.1\" 404 -\n",
      "127.0.0.1 - - [26/Aug/2022 21:12:29] \"GET /font-awesome.min.css HTTP/1.1\" 404 -\n",
      "[nltk_data] Downloading package vader_lexicon to\n",
      "[nltk_data]     C:\\Users\\Asus-2022\\AppData\\Roaming\\nltk_data...\n",
      "[nltk_data]   Package vader_lexicon is already up-to-date!\n",
      "127.0.0.1 - - [26/Aug/2022 21:12:36] \"POST / HTTP/1.1\" 200 -\n",
      "127.0.0.1 - - [26/Aug/2022 21:12:36] \"GET /bootstrap.min.css HTTP/1.1\" 404 -\n",
      "127.0.0.1 - - [26/Aug/2022 21:12:36] \"GET /font-awesome.min.css HTTP/1.1\" 404 -\n",
      "[nltk_data] Downloading package vader_lexicon to\n",
      "[nltk_data]     C:\\Users\\Asus-2022\\AppData\\Roaming\\nltk_data...\n",
      "[nltk_data]   Package vader_lexicon is already up-to-date!\n",
      "127.0.0.1 - - [26/Aug/2022 21:12:53] \"POST / HTTP/1.1\" 200 -\n",
      "127.0.0.1 - - [26/Aug/2022 21:12:53] \"GET /font-awesome.min.css HTTP/1.1\" 404 -\n",
      "127.0.0.1 - - [26/Aug/2022 21:12:53] \"GET /bootstrap.min.css HTTP/1.1\" 404 -\n",
      "[nltk_data] Downloading package vader_lexicon to\n",
      "[nltk_data]     C:\\Users\\Asus-2022\\AppData\\Roaming\\nltk_data...\n",
      "[nltk_data]   Package vader_lexicon is already up-to-date!\n",
      "127.0.0.1 - - [26/Aug/2022 21:13:12] \"POST / HTTP/1.1\" 200 -\n",
      "127.0.0.1 - - [26/Aug/2022 21:13:12] \"GET /bootstrap.min.css HTTP/1.1\" 404 -\n",
      "127.0.0.1 - - [26/Aug/2022 21:13:12] \"GET /font-awesome.min.css HTTP/1.1\" 404 -\n"
     ]
    }
   ],
   "source": [
    "import nltk\n",
    "from flask import request\n",
    "from flask import jsonify\n",
    "from flask import Flask, render_template\n",
    "app = Flask(__name__,template_folder=\"templates\")\n",
    "@app.route('/')\n",
    "def my_form():\n",
    "    return render_template('index.html')\n",
    "@app.route('/', methods=['POST'])\n",
    "def my_form_post():\n",
    "    text = request.form['text']\n",
    "    nltk.download('vader_lexicon')\n",
    "    from nltk.sentiment.vader import SentimentIntensityAnalyzer\n",
    "    sid = SentimentIntensityAnalyzer()\n",
    "    score = ((sid.polarity_scores(str(text))))['compound']\n",
    "    if(score > 0):\n",
    "        label = 'This sentence is positive'\n",
    "    elif(score == 0):\n",
    "        label = 'This sentence is neutral'\n",
    "    else:\n",
    "        label = 'This sentence is negative'\n",
    "    return(render_template('index.html', variable=label))\n",
    "if __name__ == \"__main__\":\n",
    "    app.run(debug=False)"
   ]
  },
  {
   "cell_type": "code",
   "execution_count": null,
   "id": "192f5dd1",
   "metadata": {},
   "outputs": [],
   "source": []
  }
 ],
 "metadata": {
  "kernelspec": {
   "display_name": "Python 3 (ipykernel)",
   "language": "python",
   "name": "python3"
  },
  "language_info": {
   "codemirror_mode": {
    "name": "ipython",
    "version": 3
   },
   "file_extension": ".py",
   "mimetype": "text/x-python",
   "name": "python",
   "nbconvert_exporter": "python",
   "pygments_lexer": "ipython3",
   "version": "3.9.12"
  }
 },
 "nbformat": 4,
 "nbformat_minor": 5
}
